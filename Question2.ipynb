{
 "cells": [
  {
   "cell_type": "code",
   "execution_count": 8,
   "id": "4c2ccbf3",
   "metadata": {},
   "outputs": [],
   "source": [
    "from datetime import datetime\n",
    "\n",
    "def time_to_minutes(time_str):\n",
    "    # Convert HH:MM format time to minutes\n",
    "    time_format = \"%H:%M\"\n",
    "    time_obj = datetime.strptime(time_str.strip(), time_format)\n",
    "    return time_obj.hour * 60 + time_obj.minute"
   ]
  },
  {
   "cell_type": "markdown",
   "id": "32656287",
   "metadata": {},
   "source": [
    "# Implementing First Come First Serve(FCFS) Scheduling"
   ]
  },
  {
   "cell_type": "code",
   "execution_count": 9,
   "id": "0e443784",
   "metadata": {},
   "outputs": [],
   "source": [
    "def fcfs(processes):\n",
    "    num = len(processes)\n",
    "    tot_turnaroundtime = 0\n",
    "    tot_waitingtime = 0\n",
    "\n",
    "    current_time = 0\n",
    "    process_order = []\n",
    "\n",
    "    for i in range(num):\n",
    "        ready_processes = [p for p in processes if p[1] <= current_time]\n",
    "\n",
    "        if not ready_processes:\n",
    "            current_time += 1\n",
    "            continue\n",
    "\n",
    "        current_process = min(ready_processes, key=lambda x: x[1])\n",
    "        process_order.append(current_process[0])\n",
    "\n",
    "        process_id, arrival_time, burst_time, priority = current_process\n",
    "        s_time = max(current_time, arrival_time)\n",
    "        c_time = s_time + burst_time\n",
    "        ta_time = c_time - arrival_time\n",
    "        wait_time = ta_time - burst_time\n",
    "\n",
    "        tot_turnaroundtime += ta_time\n",
    "        tot_waitingtime += wait_time\n",
    "\n",
    "        current_time = c_time\n",
    "        processes.remove(current_process)\n",
    "\n",
    "    avg_waiting_time = tot_waitingtime / num\n",
    "    avg_turnaround_time = tot_turnaroundtime / num\n",
    "\n",
    "    return process_order, avg_waiting_time, avg_turnaround_time"
   ]
  },
  {
   "cell_type": "markdown",
   "id": "545aaf33",
   "metadata": {},
   "source": [
    "# Implementing Shortest Job First(SJF) scheduling"
   ]
  },
  {
   "cell_type": "code",
   "execution_count": 10,
   "id": "7d0dfef2",
   "metadata": {},
   "outputs": [],
   "source": [
    "def sjf(processes):\n",
    "    num = len(processes)\n",
    "    tot_turnaroundtime = 0\n",
    "    tot_waitingtime = 0\n",
    "\n",
    "    current_time = 0\n",
    "    process_order = []\n",
    "\n",
    "    while processes:\n",
    "        ready_processes = [p for p in processes if p[1] <= current_time]\n",
    "\n",
    "        if not ready_processes:\n",
    "            current_time += 1\n",
    "            continue\n",
    "\n",
    "        shortest_process = min(ready_processes, key=lambda x: x[2])\n",
    "        process_order.append(shortest_process[0])\n",
    "\n",
    "        process_id, arrival_time, burst_time, priority = shortest_process\n",
    "        s_time = current_time\n",
    "        c_time = s_time + burst_time\n",
    "        ta_time = c_time - arrival_time\n",
    "        wait_time = ta_time - burst_time\n",
    "\n",
    "        tot_turnaroundtime += ta_time\n",
    "        tot_waitingtime += wait_time\n",
    "\n",
    "        current_time = c_time\n",
    "        processes.remove(shortest_process)\n",
    "\n",
    "    avg_waiting_time = tot_waitingtime / num\n",
    "    avg_turnaround_time = tot_turnaroundtime / num\n",
    "\n",
    "    return process_order, avg_waiting_time, avg_turnaround_time"
   ]
  },
  {
   "cell_type": "markdown",
   "id": "8d64e922",
   "metadata": {},
   "source": [
    "# Implementing Priority Scheduling"
   ]
  },
  {
   "cell_type": "code",
   "execution_count": 11,
   "id": "576c548f",
   "metadata": {},
   "outputs": [],
   "source": [
    "def ps(processes):\n",
    "    num = len(processes)\n",
    "    tot_turnaroundtime = 0\n",
    "    tot_waitingtime = 0\n",
    "\n",
    "    current_time = 0\n",
    "    process_order = []\n",
    "\n",
    "    while processes:\n",
    "        ready_processes = [p for p in processes if p[1] <= current_time]\n",
    "\n",
    "        if not ready_processes:\n",
    "            current_time += 1\n",
    "            continue\n",
    "\n",
    "        highest_priority_process = min(ready_processes, key=lambda x: x[3])\n",
    "        process_order.append(highest_priority_process[0])\n",
    "\n",
    "        process_id, arrival_time, burst_time, priority = highest_priority_process\n",
    "        s_time = current_time\n",
    "        c_time = s_time + burst_time\n",
    "        ta_time = c_time - arrival_time\n",
    "        wait_time = ta_time - burst_time\n",
    "\n",
    "        tot_turnaroundtime += ta_time\n",
    "        tot_waitingtime += wait_time\n",
    "\n",
    "        current_time = c_time\n",
    "        processes.remove(highest_priority_process)\n",
    "\n",
    "    avg_waiting_time = tot_waitingtime / num\n",
    "    avg_turnaround_time = tot_turnaroundtime / num\n",
    "\n",
    "    return process_order, avg_waiting_time, avg_turnaround_time"
   ]
  },
  {
   "cell_type": "markdown",
   "id": "c4535f76",
   "metadata": {},
   "source": [
    "# Main"
   ]
  },
  {
   "cell_type": "code",
   "execution_count": 13,
   "id": "941a52df",
   "metadata": {},
   "outputs": [
    {
     "name": "stdout",
     "output_type": "stream",
     "text": [
      "FCFS:\n",
      "Process Order: P1 -> P2 -> P3 -> P4\n",
      "Average Waiting Time: 31.25\n",
      "Average Turnaround Time: 57.5\n",
      "\n",
      "SJF:\n",
      "Process Order: P1 -> P4 -> P2 -> P3\n",
      "Average Waiting Time: 23.75\n",
      "Average Turnaround Time: 50.0\n",
      "\n",
      "Priority:\n",
      "Process Order: P1 -> P2 -> P4 -> P3\n",
      "Average Waiting Time: 25.0\n",
      "Average Turnaround Time: 51.25\n",
      "\n"
     ]
    }
   ],
   "source": [
    "if __name__ == \"__main__\":\n",
    "    # Input processes: [[\"P1\", \"00:00\", 30, 3], [\"P2\", \"00:10\", 20, 1], [\"P3\", \"00:15\", 40, 4], [\"P4\", \"00:20\", 15, 2]]\n",
    "    processes = [[\"P1\", \"00:00\", 30, 3], [\"P2\", \"00:10\", 20, 1], [\"P3\", \"00:15\", 40, 4], [\"P4\", \"00:20\", 15, 2]]\n",
    "\n",
    "    # Convert arrival times to minutes\n",
    "    for process in processes:\n",
    "        process[1] = time_to_minutes(process[1])\n",
    "\n",
    "    algorithms = [\"FCFS\", \"SJF\", \"Priority\"]\n",
    "\n",
    "    results = {}  # Store results for each algorithm\n",
    "\n",
    "    for algorithm in algorithms:\n",
    "        if algorithm == \"FCFS\":\n",
    "            process_order, avg_waiting_time, avg_turnaround_time = fcfs(processes.copy())\n",
    "        elif algorithm == \"SJF\":\n",
    "            process_order, avg_waiting_time, avg_turnaround_time = sjf(processes.copy())\n",
    "        elif algorithm == \"Priority\":\n",
    "            process_order, avg_waiting_time, avg_turnaround_time = ps(processes.copy())\n",
    "  \n",
    "\n",
    "        results[algorithm] = (avg_waiting_time, avg_turnaround_time, process_order)\n",
    "\n",
    "    # Print results for all algorithms\n",
    "    for algorithm, (avg_waiting_time, avg_turnaround_time, process_order) in results.items():\n",
    "        print(f\"{algorithm}:\")\n",
    "        print(f\"Process Order: {' -> '.join(process_order)}\")\n",
    "        print(f\"Average Waiting Time: {avg_waiting_time}\")\n",
    "        print(f\"Average Turnaround Time: {avg_turnaround_time}\")\n",
    "        print()"
   ]
  },
  {
   "cell_type": "code",
   "execution_count": null,
   "id": "61067b35",
   "metadata": {},
   "outputs": [],
   "source": []
  }
 ],
 "metadata": {
  "kernelspec": {
   "display_name": "Python 3 (ipykernel)",
   "language": "python",
   "name": "python3"
  },
  "language_info": {
   "codemirror_mode": {
    "name": "ipython",
    "version": 3
   },
   "file_extension": ".py",
   "mimetype": "text/x-python",
   "name": "python",
   "nbconvert_exporter": "python",
   "pygments_lexer": "ipython3",
   "version": "3.10.9"
  }
 },
 "nbformat": 4,
 "nbformat_minor": 5
}
